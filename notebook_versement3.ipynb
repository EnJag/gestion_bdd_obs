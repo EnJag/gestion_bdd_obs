{
 "cells": [
  {
   "cell_type": "markdown",
   "metadata": {},
   "source": [
    "# I. Architecture des dossiers\n",
    "## Cellule 1 (obligatoire)"
   ]
  },
  {
   "cell_type": "code",
   "execution_count": null,
   "metadata": {},
   "outputs": [],
   "source": [
    "import os\n",
    "chemin = r'chemin\\\\vers\\\\le\\\\dossier\\\\où\\\\sont\\\\les\\\\données\\\\à\\\\verser'\n",
    "os.chdir(chemin)\n",
    "print(os.getcwd())\n",
    "\n",
    "import sys\n",
    "sys.path.append(r'chemin\\\\vers\\\\le\\\\script\\\\script_versement3.py')\n",
    "\n",
    "import fonctions3\n",
    "from fonctions3 import Fonctions3\n",
    "\n",
    "import importlib\n",
    "importlib.reload(fonctions3)"
   ]
  },
  {
   "cell_type": "markdown",
   "metadata": {},
   "source": [
    "## Documentation du script"
   ]
  },
  {
   "cell_type": "code",
   "execution_count": null,
   "metadata": {},
   "outputs": [],
   "source": [
    "help(Fonctions3)"
   ]
  },
  {
   "cell_type": "markdown",
   "metadata": {},
   "source": [
    "## Cellule choupi (facultative)"
   ]
  },
  {
   "cell_type": "code",
   "execution_count": null,
   "metadata": {},
   "outputs": [],
   "source": [
    "fonctions3.mignon(1,1,2)"
   ]
  },
  {
   "cell_type": "markdown",
   "metadata": {},
   "source": [
    "## Cellule 2 (obligatoire)\n",
    "### Initiation et choix de l'observatoire"
   ]
  },
  {
   "cell_type": "code",
   "execution_count": null,
   "metadata": {},
   "outputs": [],
   "source": [
    "fonctions = Fonctions3()"
   ]
  },
  {
   "cell_type": "markdown",
   "metadata": {},
   "source": [
    "## Cellule 3 (obligatoire)\n",
    "### Renseignement du nom du fichier Excel à importer et de l'année de récolte des données"
   ]
  },
  {
   "cell_type": "code",
   "execution_count": null,
   "metadata": {
    "scrolled": true
   },
   "outputs": [],
   "source": [
    "fonctions.nom_excel = \"fichier_a_verser.xlsx\" # à modifier\n",
    "\n",
    "fonctions.annee = 2024 # à modifier\n",
    "\n",
    "if os.path.isfile(fonctions.nom_excel):\n",
    "    print('Le fichier existe.')\n",
    "else:\n",
    "    print('Le fichier n\\'existe pas.')"
   ]
  },
  {
   "cell_type": "markdown",
   "metadata": {},
   "source": [
    "# II. Utilisation du notebook"
   ]
  },
  {
   "cell_type": "markdown",
   "metadata": {},
   "source": [
    "## II.1. Préparation des fichiers (facultatif)"
   ]
  },
  {
   "cell_type": "markdown",
   "metadata": {},
   "source": [
    "### Cellule 4 (facultative)\n",
    "### Fonction listant le nom des feuilles du fichier Excel (futur nom des variables dans pg)"
   ]
  },
  {
   "cell_type": "code",
   "execution_count": null,
   "metadata": {
    "scrolled": true
   },
   "outputs": [],
   "source": [
    "fonctions.liste_feuille(fonctions.nom_excel) # Rien à changer"
   ]
  },
  {
   "cell_type": "markdown",
   "metadata": {},
   "source": [
    "### Cellule 5 (facultative)\n",
    "\n",
    "### Fonction listant toutes les tables présentes dans le schéma de l'observatoire sélectionné\n",
    "### + dico"
   ]
  },
  {
   "cell_type": "code",
   "execution_count": null,
   "metadata": {
    "scrolled": true
   },
   "outputs": [],
   "source": [
    "liste = fonctions.liste_table(afficher='vrai') # Rien à changer"
   ]
  },
  {
   "cell_type": "code",
   "execution_count": null,
   "metadata": {
    "collapsed": true
   },
   "outputs": [],
   "source": [
    "# (vous pouvez copier/coller les résultats de la cellule du dessus)\n",
    "# nom complet de la table\n",
    "fonctions3.dico('nom_table_dans_pg') # à modifier"
   ]
  },
  {
   "cell_type": "markdown",
   "metadata": {},
   "source": [
    "## Cellule 6 (obligatoire)\n",
    "### Renseignement du nom de la source et de la base (futur nom de la base dans pg : source_base)\n",
    "##### Veuillez prêter une attention particulière à l'orthographe si la table existe déjà et que vous voulez la remplir. Pour cela, vous pouvez vous servir de la fonction listant toutes les tables présentes dans le schéma de l'observatoire"
   ]
  },
  {
   "cell_type": "code",
   "execution_count": null,
   "metadata": {
    "scrolled": true
   },
   "outputs": [],
   "source": [
    "fonctions.theme = 'theme' # à modifier\n",
    "\n",
    "fonctions.base = 'base' # à modifier\n",
    "\n",
    "fonctions.source = 'source' # à modifier\n",
    "\n",
    "print(f\"Le nom de la table sera: \\033[1m{fonctions.nom_table}\\033[0m.\")"
   ]
  },
  {
   "cell_type": "markdown",
   "metadata": {},
   "source": [
    "## Cellule 7 (obligatoire)\n",
    "#### Modifications automatisées sur le jeu de données à verser"
   ]
  },
  {
   "cell_type": "code",
   "execution_count": null,
   "metadata": {},
   "outputs": [],
   "source": [
    "fonctions.modiFichier(fonctions.nom_excel) # Rien à changer"
   ]
  },
  {
   "cell_type": "markdown",
   "metadata": {},
   "source": [
    "## Cellule 8 (obligatoire)\n",
    "### Fonction de suppression des fichiers temporaires"
   ]
  },
  {
   "cell_type": "code",
   "execution_count": null,
   "metadata": {
    "scrolled": true
   },
   "outputs": [],
   "source": [
    "fonctions.suppression_fichiers(vars=False) # à modifier"
   ]
  },
  {
   "cell_type": "markdown",
   "metadata": {},
   "source": [
    "## Cellule 9 (obligatoire)\n",
    "### Première fonction de versement\n",
    "\n",
    "#### Cette fonction à préparer les données à importer plus tard. Il créer, dans un csv, les tables valeur, modalité et variable dans la bonne forme"
   ]
  },
  {
   "cell_type": "code",
   "execution_count": null,
   "metadata": {
    "collapsed": true
   },
   "outputs": [],
   "source": [
    "fonctions.traitement() # Rien à changer"
   ]
  },
  {
   "cell_type": "markdown",
   "metadata": {},
   "source": [
    "## Cellule 10 (obligatoire)\n",
    "### Deuxième fonction de versement\n",
    "#### Cette fonction importe dans pgAdmin les tables valeur, modalité et variable créées par la première fonction"
   ]
  },
  {
   "cell_type": "code",
   "execution_count": null,
   "metadata": {
    "collapsed": true
   },
   "outputs": [],
   "source": [
    "fonctions.versement() # Rien à changer"
   ]
  }
 ],
 "metadata": {
  "kernelspec": {
   "display_name": "ArcGISPro",
   "language": "Python",
   "name": "python3"
  },
  "language_info": {
   "codemirror_mode": {
    "name": "ipython",
    "version": 3
   },
   "file_extension": ".py",
   "mimetype": "text/x-python",
   "name": "python",
   "nbconvert_exporter": "python",
   "pygments_lexer": "ipython3",
   "version": "3.12.3"
  }
 },
 "nbformat": 4,
 "nbformat_minor": 2
}
