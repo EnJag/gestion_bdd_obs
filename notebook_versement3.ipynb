{
 "cells": [
  {
   "cell_type": "markdown",
   "metadata": {},
   "source": [
    "# I. Architecture des dossiers\n",
    "## Cellule 1 (obligatoire)"
   ]
  },
  {
   "cell_type": "code",
   "execution_count": 4,
   "metadata": {},
   "outputs": [
    {
     "name": "stdout",
     "output_type": "stream",
     "text": [
      "G:\\Esp-mission-Patrimoine\\documentLibrary\\Habitat_Amenagement\\OBSERVATOIRE\\03_AUTRES\\ALTERNANT\\ENZO\\Avancement\\fonctions\\tuto\n"
     ]
    },
    {
     "data": {
      "text/plain": [
       "<module 'fonctions3' from 'G:\\\\Esp-mission-Patrimoine\\\\documentLibrary\\\\Habitat_Amenagement\\\\OBSERVATOIRE\\\\03_AUTRES\\\\ALTERNANT\\\\ENZO\\\\Avancement\\\\fonctions\\\\last_version\\\\fonctions3.py'>"
      ]
     },
     "execution_count": 4,
     "metadata": {},
     "output_type": "execute_result"
    }
   ],
   "source": [
    "import os\n",
    "chemin = r'G:\\\\Esp-mission-Patrimoine\\\\documentLibrary\\\\Habitat_Amenagement\\\\OBSERVATOIRE\\\\03_AUTRES\\\\ALTERNANT\\\\ENZO\\\\Avancement\\\\fonctions\\\\tuto'\n",
    "os.chdir(chemin)\n",
    "print(os.getcwd())\n",
    "\n",
    "import sys\n",
    "sys.path.append(r'G:\\Esp-mission-Patrimoine\\documentLibrary\\Habitat_Amenagement\\OBSERVATOIRE\\03_AUTRES\\ALTERNANT\\ENZO\\Avancement\\fonctions\\last_version')\n",
    "\n",
    "import fonctions3\n",
    "from fonctions3 import Fonctions3\n",
    "\n",
    "import importlib\n",
    "importlib.reload(fonctions3)"
   ]
  },
  {
   "cell_type": "markdown",
   "metadata": {},
   "source": [
    "## Documentation du script"
   ]
  },
  {
   "cell_type": "code",
   "execution_count": null,
   "metadata": {},
   "outputs": [],
   "source": [
    "help(Fonctions3)"
   ]
  },
  {
   "cell_type": "markdown",
   "metadata": {},
   "source": [
    "## Cellule choupi (facultative)"
   ]
  },
  {
   "cell_type": "code",
   "execution_count": null,
   "metadata": {},
   "outputs": [],
   "source": [
    "fonctions3.mignon(1,1,2)"
   ]
  },
  {
   "cell_type": "markdown",
   "metadata": {},
   "source": [
    "## Cellule 2 (obligatoire)\n",
    "### Initiation et choix de l'observatoire"
   ]
  },
  {
   "cell_type": "code",
   "execution_count": 38,
   "metadata": {},
   "outputs": [
    {
     "name": "stdout",
     "output_type": "stream",
     "text": [
      "\n",
      "Demande connexion!\n",
      "\n",
      "Liste des observatoires disponibles :\n",
      "1 : l'ODH dans bdsociohab\n",
      "2 : la MDDP\n",
      "3 : l'ODH\n",
      "4 : l'Observatoire de test\n",
      "Connexion réussie!\n",
      "Vous avez choisi l'observatoire l'Observatoire de test. \n",
      "Vous vous apprêtez actuellement à faire votre versement dans la base de données obs et le schéma test.\n"
     ]
    }
   ],
   "source": [
    "fonctions = Fonctions3()"
   ]
  },
  {
   "cell_type": "markdown",
   "metadata": {},
   "source": [
    "## Cellule 3 (obligatoire)\n",
    "### Renseignement du nom du fichier Excel à importer et de l'année de récolte des données"
   ]
  },
  {
   "cell_type": "code",
   "execution_count": 39,
   "metadata": {
    "scrolled": true
   },
   "outputs": [
    {
     "name": "stdout",
     "output_type": "stream",
     "text": [
      "Le fichier existe.\n"
     ]
    }
   ],
   "source": [
    "fonctions.nom_excel = \"hola.xlsx\" # à modifier\n",
    "\n",
    "fonctions.annee = 2026 # à modifier\n",
    "\n",
    "if os.path.isfile(fonctions.nom_excel):\n",
    "    print('Le fichier existe.')\n",
    "else:\n",
    "    print('Le fichier n\\'existe pas.')"
   ]
  },
  {
   "cell_type": "markdown",
   "metadata": {},
   "source": [
    "# II. Utilisation du notebook"
   ]
  },
  {
   "cell_type": "markdown",
   "metadata": {},
   "source": [
    "## II.1. Préparation des fichiers (facultatif)"
   ]
  },
  {
   "cell_type": "markdown",
   "metadata": {},
   "source": [
    "### Cellule 4 (facultative)\n",
    "### Fonction listant le nom des feuilles du fichier Excel (futur nom des variables dans pg)"
   ]
  },
  {
   "cell_type": "code",
   "execution_count": 34,
   "metadata": {
    "scrolled": true
   },
   "outputs": [
    {
     "name": "stdout",
     "output_type": "stream",
     "text": [
      "\u001b[1m\u001b[0;34mVariable(s) pour le jeu de données:  \n",
      "\u001b[0m\u001b[0m\n",
      "mmfj\n",
      "qypp\n"
     ]
    }
   ],
   "source": [
    "fonctions.liste_feuille(fonctions.nom_excel) # Rien à changer"
   ]
  },
  {
   "cell_type": "markdown",
   "metadata": {},
   "source": [
    "### Cellule 5 (facultative)\n",
    "\n",
    "### Fonction listant toutes les tables présentes dans le schéma de l'observatoire sélectionné\n",
    "### + dico"
   ]
  },
  {
   "cell_type": "code",
   "execution_count": 9,
   "metadata": {
    "scrolled": true
   },
   "outputs": [
    {
     "name": "stdout",
     "output_type": "stream",
     "text": [
      "\u001b[1m\u001b[0;34mTables existantes dans le schéma \"test\" sur PgAdmin: \n",
      "\u001b[0m\u001b[0m\n",
      "test_fonctions3_propre\n",
      "aa_test_mod\n",
      "aa_test_var\n",
      "aa_test_dict\n"
     ]
    }
   ],
   "source": [
    "liste = fonctions.liste_table(afficher='vrai') # Rien à changer"
   ]
  },
  {
   "cell_type": "code",
   "execution_count": null,
   "metadata": {
    "collapsed": true
   },
   "outputs": [],
   "source": [
    "# (vous pouvez copier/coller les résultats de la cellule du dessus)\n",
    "# nom complet de la table\n",
    "fonctions3.dico('ipl_insee') # à modifier"
   ]
  },
  {
   "cell_type": "markdown",
   "metadata": {},
   "source": [
    "## Cellule 6 (obligatoire)\n",
    "### Renseignement du nom de la source et de la base (futur nom de la base dans pg : source_base)\n",
    "##### Veuillez prêter une attention particulière à l'orthographe si la table existe déjà et que vous voulez la remplir. Pour cela, vous pouvez vous servir de la fonction listant toutes les tables présentes dans le schéma de l'observatoire"
   ]
  },
  {
   "cell_type": "code",
   "execution_count": 40,
   "metadata": {
    "scrolled": true
   },
   "outputs": [
    {
     "name": "stdout",
     "output_type": "stream",
     "text": [
      "Le nom de la table sera: \u001b[1mtest_fonctions3_propre\u001b[0m.\n"
     ]
    }
   ],
   "source": [
    "fonctions.theme = 'test' # à modifier\n",
    "\n",
    "fonctions.base = 'fonctions3' # à modifier\n",
    "\n",
    "fonctions.source = 'propre' # à modifier\n",
    "\n",
    "print(f\"Le nom de la table sera: \\033[1m{fonctions.nom_table}\\033[0m.\")"
   ]
  },
  {
   "cell_type": "markdown",
   "metadata": {},
   "source": [
    "## Cellule 7 (obligatoire)\n",
    "#### Modifications automatisées sur le jeu de données à verser"
   ]
  },
  {
   "cell_type": "code",
   "execution_count": null,
   "metadata": {},
   "outputs": [],
   "source": [
    "fonctions.modiFichier(fonctions.nom_excel) # Rien à changer"
   ]
  },
  {
   "cell_type": "markdown",
   "metadata": {},
   "source": [
    "## Cellule 8 (obligatoire)\n",
    "### Fonction de suppression des fichiers temporaires"
   ]
  },
  {
   "cell_type": "code",
   "execution_count": 41,
   "metadata": {
    "scrolled": true
   },
   "outputs": [],
   "source": [
    "fonctions.suppression_fichiers(vars=True) # à modifier"
   ]
  },
  {
   "cell_type": "markdown",
   "metadata": {},
   "source": [
    "## Cellule 9 (obligatoire)\n",
    "### Première fonction de versement\n",
    "\n",
    "#### Cette fonction à préparer les données à importer plus tard. Il créer, dans un csv, les tables valeur, modalité et variable dans la bonne forme"
   ]
  },
  {
   "cell_type": "code",
   "execution_count": 42,
   "metadata": {
    "collapsed": true
   },
   "outputs": [
    {
     "name": "stdout",
     "output_type": "stream",
     "text": [
      "Liste des observatoires disponibles :\n",
      "1 : Commune\n",
      "2 : EPCI\n",
      "3 : IRIS\n",
      "4 : Canton\n",
      "5 : Logement\n",
      "6 : Parcelle\n",
      "7 : Section cadastrale\n",
      "8 : Département\n",
      "9 : Autre\n",
      "Vous avez choisi l'échelle Commune.\n",
      "Vous avez répondu : NON\n",
      "Fichiers temporaires créés.\n",
      "Importation des feuilles Excel terminée.\n",
      "Importation des données de mod, var et dict terminée.\n",
      "Traitement du dictionnaire terminé.\n",
      "variable recherchée : mmfj\n",
      "\u001b[0;32mtrouvée\u001b[0m\u001b[0m\n",
      "variable recherchée : qypp\n",
      "\u001b[0;32mtrouvée\u001b[0m\u001b[0m\n",
      "Traitement des variables terminé.\n"
     ]
    },
    {
     "name": "stderr",
     "output_type": "stream",
     "text": [
      "100%|██████████| 2/2 [00:00<?, ?it/s]"
     ]
    },
    {
     "name": "stdout",
     "output_type": "stream",
     "text": [
      "nom ::::: mmfj\n",
      "Modalité recherchée : ao\n",
      "\u001b[0;32mtrouvée\u001b[0m\u001b[0m\n",
      "Modalité recherchée : sx\n",
      "\u001b[0;32mtrouvée\u001b[0m\u001b[0m\n",
      "Modalité recherchée : zu\n",
      "\u001b[0;32mtrouvée\u001b[0m\u001b[0m\n",
      "Modalité recherchée : vq\n",
      "\u001b[0;32mtrouvée\u001b[0m\u001b[0m\n",
      "nom ::::: qypp\n",
      "Modalité recherchée : dv\n",
      "\u001b[0;32mtrouvée\u001b[0m\u001b[0m\n",
      "Modalité recherchée : ut\n",
      "\u001b[0;32mtrouvée\u001b[0m\u001b[0m\n",
      "Modalité recherchée : cw\n",
      "\u001b[0;32mtrouvée\u001b[0m\u001b[0m\n",
      "Modalité recherchée : dh\n",
      "\u001b[0;32mtrouvée\u001b[0m\u001b[0m\n"
     ]
    },
    {
     "name": "stderr",
     "output_type": "stream",
     "text": [
      "\n"
     ]
    },
    {
     "name": "stdout",
     "output_type": "stream",
     "text": [
      "Traitement des valeurs et des modalités terminé.\n",
      "+-+-+-+-+-+-+-+-+-+-+-+-+-+-+-+-+-+-+-+-+-+-+-+-+\n",
      "\n",
      "\u001b[0;32mOpération terminée: les fichiers temporaires ont été créé dans le dossier vars \n",
      "Vous pouvez désormais verser les données grâce à la cellule 10 ou les vérifier dans le dossier vars et fichiers_traites.\u001b[0m\u001b[0m\n",
      "\n",
      "+-+-+-+-+-+-+-+-+-+-+-+-+-+-+-+-+-+-+-+-+-+-+-+-+\n",
      "\n"
     ]
    }
   ],
   "source": [
    "fonctions.traitement() # Rien à changer"
   ]
  },
  {
   "cell_type": "markdown",
   "metadata": {},
   "source": [
    "## Cellule 10 (obligatoire)\n",
    "### Deuxième fonction de versement\n",
    "#### Cette fonction importe dans pgAdmin les tables valeur, modalité et variable créées par la première fonction"
   ]
  },
  {
   "cell_type": "code",
   "execution_count": 11,
   "metadata": {
    "collapsed": true
   },
   "outputs": [
    {
     "name": "stdout",
     "output_type": "stream",
     "text": [
      "Les données importées ont été inserées avec succès dans la table dictionnaire \n",
      "\n",
      "Les données ont été insérées dans la table dictionnaire.\n",
      "Les données importées ont été inserées avec succès dans la table variable \n",
      "\n",
      "Les données ont été insérées dans la table variable.\n",
      "Les données importées ont été inserées avec succès dans la table modalite \n",
      "\n",
      "Les données ont été insérées dans la table modalite.\n",
      "Les données importées ont été inserées avec succès dans la table valeur \n",
      "\n",
      "Insertion des données dans la table valeur... \n",
      "\n",
      "Les données ont été insérées dans la table valeur.\n",
      "\u001b[1m\u001b[0;33mVersement terminé.\u001b[0m\u001b[0m\n"
     ]
    }
   ],
   "source": [
    "fonctions.versement() # Rien à changer"
   ]
  }
 ],
 "metadata": {
  "kernelspec": {
   "display_name": "ArcGISPro",
   "language": "Python",
   "name": "python3"
  },
  "language_info": {
   "codemirror_mode": {
    "name": "ipython",
    "version": 3
   },
   "file_extension": ".py",
   "mimetype": "text/x-python",
   "name": "python",
   "nbconvert_exporter": "python",
   "pygments_lexer": "ipython3",
   "version": "3.12.3"
  }
 },
 "nbformat": 4,
 "nbformat_minor": 2
}
