{
 "cells": [
  {
   "cell_type": "markdown",
   "metadata": {},
   "source": [
    "# I. Architecture des dossiers\n",
    "## Cellule 1 (obligatoire)"
   ]
  },
  {
   "cell_type": "code",
   "execution_count": 1,
   "metadata": {},
   "outputs": [
    {
     "name": "stdout",
     "output_type": "stream",
     "text": [
      "C'est fini !\n"
     ]
    },
    {
     "ename": "",
     "evalue": "",
     "output_type": "error",
     "traceback": [
      "\u001b[1;31mThe Kernel crashed while executing code in the current cell or a previous cell. \n",
      "\u001b[1;31mPlease review the code in the cell(s) to identify a possible cause of the failure. \n",
      "\u001b[1;31mClick <a href='https://aka.ms/vscodeJupyterKernelCrash'>here</a> for more info. \n",
      "\u001b[1;31mView Jupyter <a href='command:jupyter.viewOutput'>log</a> for further details."
     ]
    }
   ],
   "source": [
    "import tkinter as tk\n",
    "\n",
    "racine = tk.Tk()\n",
    "label = tk.Label(racine, text=\"J'adore Python !\")\n",
    "bouton = tk.Button(racine, text=\"Quitter\", command=racine.quit)\n",
    "bouton[\"fg\"] = \"red\"\n",
    "label.pack()\n",
    "bouton.pack()\n",
    "racine.mainloop()\n",
    "print(\"C'est fini !\")\n"
   ]
  },
  {
   "cell_type": "code",
   "execution_count": null,
   "metadata": {},
   "outputs": [
    {
     "data": {
      "text/plain": [
       "<module 'fonctions2' from '..\\\\fonctions2.py'>"
      ]
     },
     "execution_count": 28,
     "metadata": {},
     "output_type": "execute_result"
    }
   ],
   "source": [
    "chemin = r\"R:\\Hierarchique\\DGA_AT\\PPH-D_Hab_Am\\Observatoire_habitat\\3_AUTRES\\ALTERNANT\\ENZO\\Avancement\\fonctions\\tuto\\bdd_obs\\fichiers\" # à modifier\n",
    "# chemin = # à remplir:chemin vers projet_ArcGIS.aprx\n",
    "# exemple: chemin = r\"C:\\Desktop\\paquet\\fichiers\"\n",
    "# doit être entouré de \" et commencer par un r et finir par \\paquet\\fichiers\n",
    "\n",
    "import os\n",
    "os.chdir(chemin)\n",
    "os.getcwd()\n",
    "\n",
    "import sys\n",
    "sys.path.append('../')\n",
    "\n",
    "import fonctions2\n",
    "import importlib\n",
    "importlib.reload(fonctions2)"
   ]
  },
  {
   "cell_type": "markdown",
   "metadata": {},
   "source": [
    "## Cellule choupi (facultative)"
   ]
  },
  {
   "cell_type": "code",
   "execution_count": 22,
   "metadata": {},
   "outputs": [
    {
     "name": "stdout",
     "output_type": "stream",
     "text": [
      "            \n",
      "             __________            \n",
      "            /   MEUH   \\     \n",
      "            \\__________/       \n",
      "                   \\      ^__^   \n",
      "                    \\     (oo)\\______\n",
      "                          (__)\\      )\\/\\/\n",
      "                              ||----w |\n",
      "                              ||     ||\n",
      "                    \n"
     ]
    }
   ],
   "source": [
    "fonctions2.mignon(1)"
   ]
  },
  {
   "cell_type": "markdown",
   "metadata": {},
   "source": [
    "## Cellule 2 (obligatoire)\n",
    "### Renseignement du nom du fichier Excel à importer et de l'année de récolte des données"
   ]
  },
  {
   "cell_type": "code",
   "execution_count": 32,
   "metadata": {
    "scrolled": true
   },
   "outputs": [
    {
     "data": {
      "text/plain": [
       "True"
      ]
     },
     "execution_count": 32,
     "metadata": {},
     "output_type": "execute_result"
    }
   ],
   "source": [
    "nom_Excel = 'tuto.xlsx' # à modifier\n",
    "# nom_Excel = #à remplir: nom du fichier Excel à verser dans pgAdmin\n",
    "# exemple: nom_Excel = 'insee_demographie.xlsx'\n",
    "# entouré de \" ou ' (guillemets) et terminer par .xlsx (et pas xls: problème de versionnage, point à régler)\n",
    "\n",
    "annee = 2024 # à modifier\n",
    "# annee = #à remplir: année du millésime des données à verser\n",
    "# exemple: annee = 2022\n",
    "# sans \" (guillemets)\n",
    "\n",
    "os.path.isfile(nom_Excel)"
   ]
  },
  {
   "cell_type": "markdown",
   "metadata": {},
   "source": [
    "# II. Utilisation du notebook\n",
    "\n",
    "## II.1. Préparation des fichiers\n",
    "\n",
    "## Cellule 3 (obligatoire)\n",
    "\n",
    "### Fonction du choix de l'observatoire "
   ]
  },
  {
   "cell_type": "code",
   "execution_count": 29,
   "metadata": {
    "scrolled": true
   },
   "outputs": [
    {
     "name": "stdout",
     "output_type": "stream",
     "text": [
      " \n",
      "Demande connexion! \n",
      "\n",
      "( Pour vous connecter veuillez renseigner le mot de passe associé à votre observatoire )\n",
      "                    \n",
      " \n",
      "Veuillez choisir l'observatoire auquel vous êtes rattaché :\n",
      "\n",
      "            1 pour la semaine à 4 jours au CD34\n",
      "            2 pour abolir les frites à la cantine\n",
      "                        \n",
      "\n",
      "1\n",
      "Entrez votre mot de passe : (c'est adm99!log)········\n",
      "\u001b[0;32mConnexion réussie \n",
      "\u001b[0m\u001b[0m\n",
      "\u001b[1mVous avez choisis l'ODH, vous vous apprêter actuellement à faire votre versement dans\n",
      "la database bdsociohab et le schéma socio_hab_test\u001b[0m\u001b[0m\n"
     ]
    }
   ],
   "source": [
    "nom_schema = fonctions2.choix_observatoire() # Rien à changer"
   ]
  },
  {
   "cell_type": "markdown",
   "metadata": {},
   "source": [
    "## Cellule 4 (facultative)\n",
    "### Fonction listant le nom des feuilles du fichier Excel (futur nom des variables dans pg)"
   ]
  },
  {
   "cell_type": "code",
   "execution_count": 33,
   "metadata": {
    "scrolled": true
   },
   "outputs": [
    {
     "name": "stdout",
     "output_type": "stream",
     "text": [
      "\u001b[1m\u001b[0;34mVariable(s) pour le jeu de données:  \n",
      "\u001b[0m\u001b[0m\n",
      "var1\n",
      "var2\n"
     ]
    }
   ],
   "source": [
    "fonctions2.liste_feuille(nom_Excel) # Rien à changer"
   ]
  },
  {
   "cell_type": "markdown",
   "metadata": {},
   "source": [
    "## Cellule 5 (facultative)\n",
    "\n",
    "### Fonction listant toutes les tables présentes dans le schéma de l'observatoire sélectionné\n",
    "### + dico"
   ]
  },
  {
   "cell_type": "code",
   "execution_count": 34,
   "metadata": {
    "scrolled": true
   },
   "outputs": [
    {
     "name": "stdout",
     "output_type": "stream",
     "text": [
      "\u001b[1m\u001b[0;34mTables existantes dans le schéma \"socio_hab_test\" sur PgAdmin: \n",
      "\u001b[0m\u001b[0m\n",
      "aa_socio_hab_test_dico\n",
      "demog_dipl_insee\n",
      "aa_socio_hab_test_mod\n",
      "aa_socio_hab_test_var\n"
     ]
    }
   ],
   "source": [
    "liste = fonctions2.liste_table(afficher='vrai') # Rien à changer"
   ]
  },
  {
   "cell_type": "code",
   "execution_count": 35,
   "metadata": {
    "collapsed": true
   },
   "outputs": [
    {
     "name": "stdout",
     "output_type": "stream",
     "text": [
      "\n",
      "Quel dictionnaire voulez-vous ?\n",
      " Veuillez choisir le type de dictionnaire que vous souhaitez :\n",
      "            1 pour avoir les modalités ET les variables (ça peut faire beaucoup)\n",
      "            2 en recherchant par mot-clé\n",
      "            3 pour avoir SEULEMENT les modalités\n",
      "            4 pour avoir SEULEMENT les variables\n",
      "                        \n",
      "1\n"
     ]
    },
    {
     "data": {
      "text/html": [
       "<div>\n",
       "<style scoped>\n",
       "    .dataframe tbody tr th:only-of-type {\n",
       "        vertical-align: middle;\n",
       "    }\n",
       "\n",
       "    .dataframe tbody tr th {\n",
       "        vertical-align: top;\n",
       "    }\n",
       "\n",
       "    .dataframe thead th {\n",
       "        text-align: right;\n",
       "    }\n",
       "</style>\n",
       "<table border=\"1\" class=\"dataframe\">\n",
       "  <thead>\n",
       "    <tr style=\"text-align: right;\">\n",
       "      <th></th>\n",
       "      <th>codemodalid</th>\n",
       "      <th>libellemodal</th>\n",
       "      <th>codemodalext</th>\n",
       "      <th>categ_regroupement</th>\n",
       "      <th>libelle_long</th>\n",
       "      <th>codevarid</th>\n",
       "      <th>codevarext</th>\n",
       "      <th>libaxeanalyse</th>\n",
       "      <th>origine</th>\n",
       "      <th>annee</th>\n",
       "      <th>echelle</th>\n",
       "    </tr>\n",
       "  </thead>\n",
       "  <tbody>\n",
       "    <tr>\n",
       "      <th>0</th>\n",
       "      <td>3</td>\n",
       "      <td>Bepc</td>\n",
       "      <td>bepc</td>\n",
       "      <td>bac_inf_egal</td>\n",
       "      <td>BEPC, brevet des collèges, DNB</td>\n",
       "      <td>1</td>\n",
       "      <td>diplome</td>\n",
       "      <td>diplôme</td>\n",
       "      <td>insee</td>\n",
       "      <td>2022</td>\n",
       "      <td>Commune</td>\n",
       "    </tr>\n",
       "    <tr>\n",
       "      <th>1</th>\n",
       "      <td>8</td>\n",
       "      <td>Sansdiplome</td>\n",
       "      <td>sansdiplome</td>\n",
       "      <td>bac_inf_egal</td>\n",
       "      <td>Sans diplôme ou CEP</td>\n",
       "      <td>1</td>\n",
       "      <td>diplome</td>\n",
       "      <td>diplôme</td>\n",
       "      <td>insee</td>\n",
       "      <td>2022</td>\n",
       "      <td>Commune</td>\n",
       "    </tr>\n",
       "    <tr>\n",
       "      <th>2</th>\n",
       "      <td>2</td>\n",
       "      <td>Bac</td>\n",
       "      <td>bac</td>\n",
       "      <td>bac_inf_egal</td>\n",
       "      <td>Bac, brevet pro. ou équiv.</td>\n",
       "      <td>1</td>\n",
       "      <td>diplome</td>\n",
       "      <td>diplôme</td>\n",
       "      <td>insee</td>\n",
       "      <td>2023</td>\n",
       "      <td>Commune</td>\n",
       "    </tr>\n",
       "    <tr>\n",
       "      <th>3</th>\n",
       "      <td>7</td>\n",
       "      <td>Bac5Ouplus</td>\n",
       "      <td>bac5ouplus</td>\n",
       "      <td>bac_plus</td>\n",
       "      <td>Enseignement sup de niveau bac + 5 ou plus</td>\n",
       "      <td>1</td>\n",
       "      <td>diplome</td>\n",
       "      <td>diplôme</td>\n",
       "      <td>insee</td>\n",
       "      <td>2023</td>\n",
       "      <td>Commune</td>\n",
       "    </tr>\n",
       "    <tr>\n",
       "      <th>4</th>\n",
       "      <td>6</td>\n",
       "      <td>Bac3Ou4</td>\n",
       "      <td>bac3ou4</td>\n",
       "      <td>bac_plus</td>\n",
       "      <td>Enseignement sup de niveau bac + 3 ou 4</td>\n",
       "      <td>1</td>\n",
       "      <td>diplome</td>\n",
       "      <td>diplôme</td>\n",
       "      <td>insee</td>\n",
       "      <td>2023</td>\n",
       "      <td>Commune</td>\n",
       "    </tr>\n",
       "    <tr>\n",
       "      <th>5</th>\n",
       "      <td>6</td>\n",
       "      <td>Bac3Ou4</td>\n",
       "      <td>bac3ou4</td>\n",
       "      <td>bac_plus</td>\n",
       "      <td>Enseignement sup de niveau bac + 3 ou 4</td>\n",
       "      <td>1</td>\n",
       "      <td>diplome</td>\n",
       "      <td>diplôme</td>\n",
       "      <td>insee</td>\n",
       "      <td>2022</td>\n",
       "      <td>Commune</td>\n",
       "    </tr>\n",
       "    <tr>\n",
       "      <th>6</th>\n",
       "      <td>3</td>\n",
       "      <td>Bepc</td>\n",
       "      <td>bepc</td>\n",
       "      <td>bac_inf_egal</td>\n",
       "      <td>BEPC, brevet des collèges, DNB</td>\n",
       "      <td>1</td>\n",
       "      <td>diplome</td>\n",
       "      <td>diplôme</td>\n",
       "      <td>insee</td>\n",
       "      <td>2023</td>\n",
       "      <td>Commune</td>\n",
       "    </tr>\n",
       "    <tr>\n",
       "      <th>7</th>\n",
       "      <td>9</td>\n",
       "      <td>Total</td>\n",
       "      <td>total</td>\n",
       "      <td>total</td>\n",
       "      <td>Total général</td>\n",
       "      <td>1</td>\n",
       "      <td>diplome</td>\n",
       "      <td>diplôme</td>\n",
       "      <td>insee</td>\n",
       "      <td>2023</td>\n",
       "      <td>Commune</td>\n",
       "    </tr>\n",
       "    <tr>\n",
       "      <th>8</th>\n",
       "      <td>7</td>\n",
       "      <td>Bac5Ouplus</td>\n",
       "      <td>bac5ouplus</td>\n",
       "      <td>bac_plus</td>\n",
       "      <td>Enseignement sup de niveau bac + 5 ou plus</td>\n",
       "      <td>1</td>\n",
       "      <td>diplome</td>\n",
       "      <td>diplôme</td>\n",
       "      <td>insee</td>\n",
       "      <td>2022</td>\n",
       "      <td>Commune</td>\n",
       "    </tr>\n",
       "    <tr>\n",
       "      <th>9</th>\n",
       "      <td>8</td>\n",
       "      <td>Sansdiplome</td>\n",
       "      <td>sansdiplome</td>\n",
       "      <td>bac_inf_egal</td>\n",
       "      <td>Sans diplôme ou CEP</td>\n",
       "      <td>1</td>\n",
       "      <td>diplome</td>\n",
       "      <td>diplôme</td>\n",
       "      <td>insee</td>\n",
       "      <td>2023</td>\n",
       "      <td>Commune</td>\n",
       "    </tr>\n",
       "    <tr>\n",
       "      <th>10</th>\n",
       "      <td>4</td>\n",
       "      <td>Cap</td>\n",
       "      <td>cap</td>\n",
       "      <td>bac_inf_egal</td>\n",
       "      <td>CAP-BEP ou équiv.</td>\n",
       "      <td>1</td>\n",
       "      <td>diplome</td>\n",
       "      <td>diplôme</td>\n",
       "      <td>insee</td>\n",
       "      <td>2023</td>\n",
       "      <td>Commune</td>\n",
       "    </tr>\n",
       "    <tr>\n",
       "      <th>11</th>\n",
       "      <td>5</td>\n",
       "      <td>Bac2</td>\n",
       "      <td>bac2</td>\n",
       "      <td>bac_plus</td>\n",
       "      <td>Enseignement sup de niveau bac + 2</td>\n",
       "      <td>1</td>\n",
       "      <td>diplome</td>\n",
       "      <td>diplôme</td>\n",
       "      <td>insee</td>\n",
       "      <td>2023</td>\n",
       "      <td>Commune</td>\n",
       "    </tr>\n",
       "    <tr>\n",
       "      <th>12</th>\n",
       "      <td>9</td>\n",
       "      <td>Total</td>\n",
       "      <td>total</td>\n",
       "      <td>total</td>\n",
       "      <td>Total général</td>\n",
       "      <td>1</td>\n",
       "      <td>diplome</td>\n",
       "      <td>diplôme</td>\n",
       "      <td>insee</td>\n",
       "      <td>2022</td>\n",
       "      <td>Commune</td>\n",
       "    </tr>\n",
       "    <tr>\n",
       "      <th>13</th>\n",
       "      <td>5</td>\n",
       "      <td>Bac2</td>\n",
       "      <td>bac2</td>\n",
       "      <td>bac_plus</td>\n",
       "      <td>Enseignement sup de niveau bac + 2</td>\n",
       "      <td>1</td>\n",
       "      <td>diplome</td>\n",
       "      <td>diplôme</td>\n",
       "      <td>insee</td>\n",
       "      <td>2022</td>\n",
       "      <td>Commune</td>\n",
       "    </tr>\n",
       "    <tr>\n",
       "      <th>14</th>\n",
       "      <td>2</td>\n",
       "      <td>Bac</td>\n",
       "      <td>bac</td>\n",
       "      <td>bac_inf_egal</td>\n",
       "      <td>Bac, brevet pro. ou équiv.</td>\n",
       "      <td>1</td>\n",
       "      <td>diplome</td>\n",
       "      <td>diplôme</td>\n",
       "      <td>insee</td>\n",
       "      <td>2022</td>\n",
       "      <td>Commune</td>\n",
       "    </tr>\n",
       "    <tr>\n",
       "      <th>15</th>\n",
       "      <td>4</td>\n",
       "      <td>Cap</td>\n",
       "      <td>cap</td>\n",
       "      <td>bac_inf_egal</td>\n",
       "      <td>CAP-BEP ou équiv.</td>\n",
       "      <td>1</td>\n",
       "      <td>diplome</td>\n",
       "      <td>diplôme</td>\n",
       "      <td>insee</td>\n",
       "      <td>2022</td>\n",
       "      <td>Commune</td>\n",
       "    </tr>\n",
       "  </tbody>\n",
       "</table>\n",
       "</div>"
      ],
      "text/plain": [
       "    codemodalid libellemodal codemodalext  ... origine annee  echelle\n",
       "0             3         Bepc         bepc  ...   insee  2022  Commune\n",
       "1             8  Sansdiplome  sansdiplome  ...   insee  2022  Commune\n",
       "2             2          Bac          bac  ...   insee  2023  Commune\n",
       "3             7   Bac5Ouplus   bac5ouplus  ...   insee  2023  Commune\n",
       "4             6      Bac3Ou4      bac3ou4  ...   insee  2023  Commune\n",
       "5             6      Bac3Ou4      bac3ou4  ...   insee  2022  Commune\n",
       "6             3         Bepc         bepc  ...   insee  2023  Commune\n",
       "7             9        Total        total  ...   insee  2023  Commune\n",
       "8             7   Bac5Ouplus   bac5ouplus  ...   insee  2022  Commune\n",
       "9             8  Sansdiplome  sansdiplome  ...   insee  2023  Commune\n",
       "10            4          Cap          cap  ...   insee  2023  Commune\n",
       "11            5         Bac2         bac2  ...   insee  2023  Commune\n",
       "12            9        Total        total  ...   insee  2022  Commune\n",
       "13            5         Bac2         bac2  ...   insee  2022  Commune\n",
       "14            2          Bac          bac  ...   insee  2022  Commune\n",
       "15            4          Cap          cap  ...   insee  2022  Commune\n",
       "\n",
       "[16 rows x 11 columns]"
      ]
     },
     "metadata": {},
     "output_type": "display_data"
    }
   ],
   "source": [
    "# (vous pouvez copier/coller les résultats de la cellule du dessus)\n",
    "# nom complet de la table\n",
    "fonctions2.dico('') # à modifier"
   ]
  },
  {
   "cell_type": "markdown",
   "metadata": {},
   "source": [
    "## Cellule 6 (obligatoire)\n",
    "### Renseignement du nom de la source et de la base (futur nom de la base dans pg : source_base)\n",
    "##### Veuillez prêter une attention particulière à l'orthographe si la table existe déjà et que vous voulez la remplir. Pour cela, vous pouvez vous servir de la fonction listant toutes les tables présentes dans le schéma de l'observatoire"
   ]
  },
  {
   "cell_type": "code",
   "execution_count": 36,
   "metadata": {
    "scrolled": true
   },
   "outputs": [],
   "source": [
    "# Le nom de la table sera theme_base_source\n",
    "\n",
    "theme   = 'bienvenue' # à modifier\n",
    "# theme = à remplir: générique qui regroupe plusieurs tables de valeur\n",
    "# exemple: theme = 'public'\n",
    "# entouré de \" ou ' (guillemets)\n",
    "\n",
    "base    = 'a' # à modifier\n",
    "# base = à remplir: \n",
    "# exemple: base = 'dipl'\n",
    "# entouré de \" ou ' (guillemets)\n",
    "\n",
    "source  = 'toi' # à modifier\n",
    "# source = à remplir: source de la base\n",
    "# exemple: source = 'insee'\n",
    "# entouré de \" ou ' (guillemets)"
   ]
  },
  {
   "cell_type": "markdown",
   "metadata": {},
   "source": [
    "## Cellule 7 (obligatoire)\n",
    "#### Modifications automatisées sur le jeu de données à verser"
   ]
  },
  {
   "cell_type": "code",
   "execution_count": 30,
   "metadata": {},
   "outputs": [
    {
     "name": "stdout",
     "output_type": "stream",
     "text": [
      "Plus aucun caractère inattendu dans le nom des colonnes...\n",
      "\n",
      "~~~~~~~~~~~~~~~~~~~~~~~~~~~~~~~~~~~~~~~~~~~~~~~~~~~~~~~~~~~~~~~~~~~~~~~~~~~~~~~~~~~~~~~\n",
      "\n",
      "\u001b[0;32mNouveau fichier Excel enregistré avec les modifications à apporter au versement\n",
      "\u001b[0m\u001b[0m\n",
      "~~~~~~~~~~~~~~~~~~~~~~~~~~~~~~~~~~~~~~~~~~~~~~~~~~~~~~~~~~~~~~~~~~~~~~~~~~~~~~~~~~~~~~~\n",
      "Plus aucun caractère inattendu dans le nom des colonnes...\n",
      "\n",
      "~~~~~~~~~~~~~~~~~~~~~~~~~~~~~~~~~~~~~~~~~~~~~~~~~~~~~~~~~~~~~~~~~~~~~~~~~~~~~~~~~~~~~~~\n",
      "\n",
      "\u001b[0;32mNouveau fichier Excel enregistré avec les modifications à apporter au versement\n",
      "\u001b[0m\u001b[0m\n",
      "~~~~~~~~~~~~~~~~~~~~~~~~~~~~~~~~~~~~~~~~~~~~~~~~~~~~~~~~~~~~~~~~~~~~~~~~~~~~~~~~~~~~~~~\n"
     ]
    }
   ],
   "source": [
    "fonctions2.modiFichier(nom_Excel) # Rien à changer"
   ]
  },
  {
   "cell_type": "markdown",
   "metadata": {},
   "source": [
    "## Cellule 8 (obligatoire)\n",
    "### Fonction de suppression des fichiers temporaires"
   ]
  },
  {
   "cell_type": "code",
   "execution_count": 41,
   "metadata": {
    "scrolled": true
   },
   "outputs": [],
   "source": [
    "fonctions2.suppression_fichiers() # Rien à changer"
   ]
  },
  {
   "cell_type": "markdown",
   "metadata": {},
   "source": [
    "## Cellule 9 (obligatoire)\n",
    "### Première fonction de versement\n",
    "\n",
    "#### Cette fonction à préparer les données à importer plus tard. Il créer, dans un csv, les tables valeur, modalité et variable dans la bonne forme"
   ]
  },
  {
   "cell_type": "code",
   "execution_count": 42,
   "metadata": {
    "collapsed": true
   },
   "outputs": [
    {
     "name": "stdout",
     "output_type": "stream",
     "text": [
      " Veuillez Choisir l'échelle correspondant à l'échelle de vos données :\n",
      "\n",
      "                        1 pour Commune\n",
      "                        2 pour EPCI\n",
      "                        3 pour IRIS\n",
      "                        4 pour Canton\n",
      "                        5 pour Logement\n",
      "                        6 pour Parcelle\n",
      "                        7 pour Section cadastrale\n",
      "                        8 pour Département\n",
      "                        9 pour Autre\n",
      "\n",
      "                        \n",
      "1\n",
      " Souhaitez-vous saisir les libellés et catégorie de regroupement pour toutes vos nouvelles modalités ? \n",
      "(Répondez par : OUI ou NON)\n",
      "oui\n",
      "\u001b[0;34mTest existence de var et mod réussie\u001b[0m\u001b[0m\n",
      "variable recherchée : var1\n",
      "\u001b[0;32mnouvelle \n",
      "\u001b[0m\u001b[0m\n",
      "Veuillez saisir le libellé long de cette variable\n",
      "\n",
      "Veuillez saisir la catégorie de regroupement de cette variable\n",
      "\n",
      "la variable var1 à été insérée \n",
      " \n",
      "variable recherchée : var2\n",
      "\u001b[0;32mnouvelle \n",
      "\u001b[0m\u001b[0m\n",
      "Veuillez saisir le libellé long de cette variable\n",
      "\n",
      "Veuillez saisir la catégorie de regroupement de cette variable\n",
      "\n",
      "la variable var2 à été insérée \n",
      " \n"
     ]
    },
    {
     "name": "stderr",
     "output_type": "stream",
     "text": [
      "\r\n",
      "  0%|          | 0/2 [00:00<?, ?it/s]"
     ]
    },
    {
     "name": "stdout",
     "output_type": "stream",
     "text": [
      " nom :::::  Var1\n",
      "Modalité recherchée : Col1 \n",
      "\n",
      "\u001b[0;32mnouvelle \n",
      "\u001b[0m\u001b[0m\n",
      "Veuillez saisir le libellé long de cette modalité\n",
      "\n",
      "Veuillez saisir la catégorie de regroupement de cette modalité\n",
      "\n",
      "Modalité recherchée : Col2 \n",
      "\n",
      "\u001b[0;32mnouvelle \n",
      "\u001b[0m\u001b[0m\n",
      "Veuillez saisir le libellé long de cette modalité\n",
      "\n",
      "Veuillez saisir la catégorie de regroupement de cette modalité\n",
      "\n",
      "Modalité recherchée : Col3 \n",
      "\n",
      "\u001b[0;32mnouvelle \n",
      "\u001b[0m\u001b[0m\n",
      "Veuillez saisir le libellé long de cette modalité\n",
      "\n",
      "Veuillez saisir la catégorie de regroupement de cette modalité\n",
      "\n"
     ]
    },
    {
     "name": "stderr",
     "output_type": "stream",
     "text": [
      "\r\n",
      " 50%|#####     | 1/2 [00:00<00:00,  2.51it/s]"
     ]
    },
    {
     "name": "stdout",
     "output_type": "stream",
     "text": [
      " nom :::::  Var2\n",
      "Modalité recherchée : Col4 \n",
      "\n",
      "\u001b[0;32mnouvelle \n",
      "\u001b[0m\u001b[0m\n",
      "Veuillez saisir le libellé long de cette modalité\n",
      "\n",
      "Veuillez saisir la catégorie de regroupement de cette modalité\n",
      "\n",
      "Modalité recherchée : Col5 \n",
      "\n",
      "\u001b[0;32mnouvelle \n",
      "\u001b[0m\u001b[0m\n",
      "Veuillez saisir le libellé long de cette modalité\n",
      "\n",
      "Veuillez saisir la catégorie de regroupement de cette modalité\n",
      "\n",
      "Modalité recherchée : Col6 \n",
      "\n",
      "\u001b[0;32mnouvelle \n",
      "\u001b[0m\u001b[0m\n",
      "Veuillez saisir le libellé long de cette modalité\n",
      "\n",
      "Veuillez saisir la catégorie de regroupement de cette modalité\n",
      "\n"
     ]
    },
    {
     "name": "stderr",
     "output_type": "stream",
     "text": [
      "100%|##########| 2/2 [00:02<00:00,  1.31it/s]\n"
     ]
    },
    {
     "name": "stdout",
     "output_type": "stream",
     "text": [
      "+-+-+-+-+-+-+-+-+-+-+-+-+-+-+-+-+-+-+-+-+-+-+-+-+-+-+-+-+-+-+-+-+-+-+-+-+-+-+-+-+\n",
      "\n",
      "\u001b[1m\u001b[0;32mOpération terminée: les fichiers temporaires ont été créé dans le dossier vars \n",
      "\u001b[0m\u001b[0m\n",
      "+-+-+-+-+-+-+-+-+-+-+-+-+-+-+-+-+-+-+-+-+-+-+-+-+-+-+-+-+-+-+-+-+-+-+-+-+-+-+-+-+\n"
     ]
    }
   ],
   "source": [
    "new_millesime = fonctions2.traitement(nom_Excel,annee,source,base,theme) # Rien à changer"
   ]
  },
  {
   "cell_type": "markdown",
   "metadata": {},
   "source": [
    "## Cellule 10 (obligatoire)\n",
    "### Deuxième fonction de versement\n",
    "#### Cette fonction importe dans pgAdmin les tables valeur, modalité et variable créées par la première fonction"
   ]
  },
  {
   "cell_type": "code",
   "execution_count": 44,
   "metadata": {
    "collapsed": true
   },
   "outputs": [
    {
     "name": "stdout",
     "output_type": "stream",
     "text": [
      "Les données importées ont été inserées avec succès dans la table socio_hab_test.aa_socio_hab_test_var \n",
      "\n",
      "+-+-+-+-+-+-+-+-+-+-+-+-+-+-+-+-+-+-+-+-+-+-+-+-+\n",
      "\n",
      "\u001b[0;32mla requête a été executée\n",
      "\u001b[0m\u001b[0m\n",
      "+-+-+-+-+-+-+-+-+-+-+-+-+-+-+-+-+-+-+-+-+-+-+-+-+\n",
      "\n",
      "Les données importées ont été inserées avec succès dans la table socio_hab_test.aa_socio_hab_test_mod \n",
      "\n",
      "+-+-+-+-+-+-+-+-+-+-+-+-+-+-+-+-+-+-+-+-+-+-+-+-+\n",
      "\n",
      "\u001b[0;32mla requête a été executée\n",
      "\u001b[0m\u001b[0m\n",
      "+-+-+-+-+-+-+-+-+-+-+-+-+-+-+-+-+-+-+-+-+-+-+-+-+\n",
      "\n",
      "Les données importées ont été inserées avec succès dans la table socio_hab_test.bienvenue_a_toi \n",
      "\n",
      "+-+-+-+-+-+-+-+-+-+-+-+-+-+-+-+-+-+-+-+-+-+-+-+-+\n",
      "\n",
      "\u001b[0;32mla requête a été executée\n",
      "\u001b[0m\u001b[0m\n",
      "+-+-+-+-+-+-+-+-+-+-+-+-+-+-+-+-+-+-+-+-+-+-+-+-+\n",
      "\n",
      "Souhaitez-vous renseigner ce versement dans un dictionnaire ? \n",
      "(Répondez par : OUI ou NON)\n",
      "non\n"
     ]
    }
   ],
   "source": [
    "fonctions2.versement(source,base,theme,annee) # Rien à changer"
   ]
  },
  {
   "cell_type": "markdown",
   "metadata": {},
   "source": [
    "### Fonction de création des vues"
   ]
  },
  {
   "cell_type": "markdown",
   "metadata": {},
   "source": [
    "#### Cette fonction permet de créer des vues avec ou sans des indicateurs \"simples\""
   ]
  },
  {
   "cell_type": "code",
   "execution_count": 10,
   "metadata": {
    "scrolled": true
   },
   "outputs": [
    {
     "name": "stdout",
     "output_type": "stream",
     "text": [
      "\u001b[1m\u001b[0;34mTables existantes dans le schéma \"socio_hab_test\" sur PgAdmin: \n",
      "\u001b[0m\u001b[0m\n",
      "aa_socio_hab_test_dico\n",
      "demog_dipl_insee\n",
      "aa_socio_hab_test_mod\n",
      "aa_socio_hab_test_var\n"
     ]
    }
   ],
   "source": [
    "liste = fonctions2.liste_table(afficher='vrai') # Rien à changer"
   ]
  },
  {
   "cell_type": "markdown",
   "metadata": {},
   "source": [
    "#### Affichage du dictionnaire"
   ]
  },
  {
   "cell_type": "code",
   "execution_count": 11,
   "metadata": {
    "scrolled": true
   },
   "outputs": [
    {
     "name": "stdout",
     "output_type": "stream",
     "text": [
      "\n",
      "Quel dictionnaire voulez-vous ?\n",
      " Veuillez choisir le type de dictionnaire que vous souhaitez :\n",
      "            1 pour avoir les modalités ET les variables (ça peut faire beaucoup)\n",
      "            2 en recherchant par mot-clé\n",
      "            3 pour avoir SEULEMENT les modalités\n",
      "            4 pour avoir SEULEMENT les variables\n",
      "                        \n",
      "4\n"
     ]
    },
    {
     "data": {
      "text/html": [
       "<div>\n",
       "<style scoped>\n",
       "    .dataframe tbody tr th:only-of-type {\n",
       "        vertical-align: middle;\n",
       "    }\n",
       "\n",
       "    .dataframe tbody tr th {\n",
       "        vertical-align: top;\n",
       "    }\n",
       "\n",
       "    .dataframe thead th {\n",
       "        text-align: right;\n",
       "    }\n",
       "</style>\n",
       "<table border=\"1\" class=\"dataframe\">\n",
       "  <thead>\n",
       "    <tr style=\"text-align: right;\">\n",
       "      <th></th>\n",
       "      <th>codevarid</th>\n",
       "      <th>codevarext</th>\n",
       "      <th>libaxeanalyse</th>\n",
       "    </tr>\n",
       "  </thead>\n",
       "  <tbody>\n",
       "    <tr>\n",
       "      <th>0</th>\n",
       "      <td>1</td>\n",
       "      <td>diplome</td>\n",
       "      <td>diplôme</td>\n",
       "    </tr>\n",
       "  </tbody>\n",
       "</table>\n",
       "</div>"
      ],
      "text/plain": [
       "   codevarid codevarext libaxeanalyse\n",
       "0          1    diplome       diplôme"
      ]
     },
     "metadata": {},
     "output_type": "display_data"
    }
   ],
   "source": [
    "# nom complet de la table\n",
    "dico = fonctions2.dico('demog_dipl_insee')  # à modifier\n",
    "dico"
   ]
  },
  {
   "cell_type": "code",
   "execution_count": 12,
   "metadata": {
    "collapsed": true
   },
   "outputs": [
    {
     "name": "stdout",
     "output_type": "stream",
     "text": [
      "\u001b[1m\u001b[0;34m\n",
      "        Création des vues...\u001b[0m\u001b[0m\n",
      "\u001b[0;32mTable trouvée :\u001b[0m\u001b[0m\n",
      "demog_dipl_insee\n"
     ]
    },
    {
     "name": "stderr",
     "output_type": "stream",
     "text": [
      "\r\n",
      "  0%|          | 0/1 [00:00<?, ?it/s]"
     ]
    },
    {
     "name": "stdout",
     "output_type": "stream",
     "text": [
      "______________________________________________________________________________\n",
      "\u001b[1mLa vue socio_hab_test.V_demog_dipl_insee à été créée avec succès dans PostgreSQL \n",
      "\u001b[0m\u001b[0m\n"
     ]
    },
    {
     "name": "stderr",
     "output_type": "stream",
     "text": [
      "100%|##########| 1/1 [00:00<00:00, 28.47it/s]\n"
     ]
    },
    {
     "name": "stdout",
     "output_type": "stream",
     "text": [
      "\u001b[1m \n",
      "        Souhaitez-vous calculer des indicateurs à partir de la vue créée? \n",
      "\n",
      "        Veuillez répondre par OUI ou NON \n",
      " \u001b[0m\u001b[0m\n",
      "oui\n",
      "\u001b[1m\n",
      "        Vous pouvez ajouter des indicateurs calculés pour plus d'informations sur vos données \n",
      " \u001b[0m\u001b[0m\n",
      "\n",
      " Liste des libellemodal :\n",
      "\n",
      "Cap                           Bac2                          Bac                           Bac3Ou4                       Sansdiplome                   \n",
      "Total                         Bepc                          Bac5Ouplus                    \n",
      " Liste des libelle_long :\n",
      "\n",
      "CAP-BEP ou équiv.             Enseignement sup de niveau bac + 2Bac, brevet pro. ou équiv.    Enseignement sup de niveau bac + 3 ou 4Sans diplôme ou CEP           \n",
      "Total général                 BEPC, brevet des collèges, DNBEnseignement sup de niveau bac + 5 ou plus\n",
      "\n",
      "\n",
      " Entrez le nombre d'indicateurs à calculer : 1\n",
      "\n",
      "        Indicateur 1 \n",
      "Quel type de calcul souhaitez-vous effectuer? \n",
      "\n",
      "\u001b[1mVeuillez entrez un numéro: \n",
      "\u001b[0m\u001b[0m\n",
      "\u001b[1m1:\u001b[0m\u001b[0m part ... en % (modalite1/modalite2) * 100  ou [ (modalite1 + modalite2 + .... + modaliteN-1)/modaliteN ] * 100 \n",
      "\n",
      "\u001b[1m2:\u001b[0m\u001b[0m somme (modalite1 + modalite2 + .... + modaliteN) \n",
      "\n",
      "\u001b[1m3:\u001b[0m\u001b[0m différence (modalite1 - modalite2 - .... - modaliteN)\n",
      "\n",
      "1\n",
      "\n",
      "        Veuillez saisir les variables pour le calcul (séparées pas des virgules) : Sansdiplome,Total\n",
      "\n",
      "        Choisissez un nom pour l'indicateur à créer :  part_non_diplome\n",
      "+-+-+-+-+-+-+-+-+-+-+-+-+-+-+-+-+-+-+-+-+-+-+-+-+-+-+-+-+-+-+-+-+-+-+-+-+-+-+-+-+\n",
      "\n",
      "\u001b[1m\u001b[0;36mLa vue socio_hab_test.V_demog_dipl_insee à été créée avec succès dans PostgreSQL \n",
      "\u001b[0m\u001b[0m\n",
      "+-+-+-+-+-+-+-+-+-+-+-+-+-+-+-+-+-+-+-+-+-+-+-+-+-+-+-+-+-+-+-+-+-+-+-+-+-+-+-+-+\n"
     ]
    }
   ],
   "source": [
    "fonctions2.creationVueSchema(base,source,theme) # Rien à changer"
   ]
  },
  {
   "cell_type": "code",
   "execution_count": null,
   "metadata": {
    "scrolled": true
   },
   "outputs": [],
   "source": []
  },
  {
   "cell_type": "markdown",
   "metadata": {},
   "source": [
    "#### Mise à jour vue"
   ]
  },
  {
   "cell_type": "code",
   "execution_count": 141,
   "metadata": {
    "collapsed": true
   },
   "outputs": [
    {
     "name": "stdout",
     "output_type": "stream",
     "text": [
      "\u001b[0;32mVues trouvées :\u001b[0m\u001b[0m\n",
      "v_demog_dipl_insee_avec_indicateur\n",
      "v_demog_dipl_insee\n",
      "dico_demog_dipl_insee\n",
      "\u001b[1m \n",
      "    Vous êtes sûr(e) de vouloir mettre à jour une vue ? \n",
      "\n",
      "    Répondez par oui ou non!             \n",
      " \u001b[0m\u001b[0m\n",
      "v_demog_dipl_insee_avec_indicateur\n",
      "oui\n",
      "\u001b[1m\n",
      "        Vous pouvez ajouter des indicateurs calculés pour plus d'informations sur vos données \n",
      " \u001b[0m\u001b[0m\n",
      "Veuillez saisir le nom complet d'une des vue affichées précédement: \n",
      "v_demog_dipl_insee_avec_indicateur\n",
      "\n",
      " Liste des libellemodal :\n",
      "\n",
      "Cap                           Bacplus3Ou4                   Bac                           Total_General                 Bacplus2                      \n",
      "Bepc                          Sans_Diplome                  Bacplus5Ouplus                \n",
      " Liste des libelle_long :\n",
      "\n",
      "CAP-BEP ou équiv.             Enseignement sup de niveau bac + 3 ou 4Bac, brevet pro. ou équiv.    Total général                 Enseignement sup de niveau bac + 2\n",
      "BEPC, brevet des collèges, DNBSans diplôme ou CEP           Enseignement sup de niveau bac + 5 ou plus\n",
      "\n",
      "\n",
      "\n",
      "Voici un apercu de la structure de la table sur PgAdmin \n"
     ]
    },
    {
     "data": {
      "text/html": [
       "<div>\n",
       "<style scoped>\n",
       "    .dataframe tbody tr th:only-of-type {\n",
       "        vertical-align: middle;\n",
       "    }\n",
       "\n",
       "    .dataframe tbody tr th {\n",
       "        vertical-align: top;\n",
       "    }\n",
       "\n",
       "    .dataframe thead th {\n",
       "        text-align: right;\n",
       "    }\n",
       "</style>\n",
       "<table border=\"1\" class=\"dataframe\">\n",
       "  <thead>\n",
       "    <tr style=\"text-align: right;\">\n",
       "      <th></th>\n",
       "      <th>row_id</th>\n",
       "      <th>codeentite</th>\n",
       "      <th>annee</th>\n",
       "      <th>sans_diplome</th>\n",
       "      <th>bacplus5ouplus</th>\n",
       "      <th>bepc</th>\n",
       "      <th>bacplus3ou4</th>\n",
       "      <th>total_general</th>\n",
       "      <th>bacplus2</th>\n",
       "      <th>cap</th>\n",
       "      <th>bac</th>\n",
       "      <th>part_non_diplome</th>\n",
       "    </tr>\n",
       "  </thead>\n",
       "  <tbody>\n",
       "    <tr>\n",
       "      <th>0</th>\n",
       "      <td>340012022</td>\n",
       "      <td>34001</td>\n",
       "      <td>2022</td>\n",
       "      <td>144.0</td>\n",
       "      <td>34.0</td>\n",
       "      <td>51.0</td>\n",
       "      <td>52.0</td>\n",
       "      <td>714.0</td>\n",
       "      <td>80.0</td>\n",
       "      <td>197.0</td>\n",
       "      <td>156.0</td>\n",
       "      <td>20.168067</td>\n",
       "    </tr>\n",
       "    <tr>\n",
       "      <th>1</th>\n",
       "      <td>340022022</td>\n",
       "      <td>34002</td>\n",
       "      <td>2022</td>\n",
       "      <td>75.0</td>\n",
       "      <td>29.0</td>\n",
       "      <td>36.0</td>\n",
       "      <td>51.0</td>\n",
       "      <td>461.0</td>\n",
       "      <td>59.0</td>\n",
       "      <td>110.0</td>\n",
       "      <td>101.0</td>\n",
       "      <td>16.268980</td>\n",
       "    </tr>\n",
       "    <tr>\n",
       "      <th>2</th>\n",
       "      <td>340032022</td>\n",
       "      <td>34003</td>\n",
       "      <td>2022</td>\n",
       "      <td>3553.0</td>\n",
       "      <td>633.0</td>\n",
       "      <td>1031.0</td>\n",
       "      <td>823.0</td>\n",
       "      <td>12831.0</td>\n",
       "      <td>1234.0</td>\n",
       "      <td>2956.0</td>\n",
       "      <td>2601.0</td>\n",
       "      <td>27.690749</td>\n",
       "    </tr>\n",
       "    <tr>\n",
       "      <th>3</th>\n",
       "      <td>340042022</td>\n",
       "      <td>34004</td>\n",
       "      <td>2022</td>\n",
       "      <td>25.0</td>\n",
       "      <td>8.0</td>\n",
       "      <td>1.0</td>\n",
       "      <td>10.0</td>\n",
       "      <td>102.0</td>\n",
       "      <td>7.0</td>\n",
       "      <td>27.0</td>\n",
       "      <td>24.0</td>\n",
       "      <td>24.509804</td>\n",
       "    </tr>\n",
       "    <tr>\n",
       "      <th>4</th>\n",
       "      <td>340052022</td>\n",
       "      <td>34005</td>\n",
       "      <td>2022</td>\n",
       "      <td>12.0</td>\n",
       "      <td>9.0</td>\n",
       "      <td>3.0</td>\n",
       "      <td>19.0</td>\n",
       "      <td>105.0</td>\n",
       "      <td>13.0</td>\n",
       "      <td>26.0</td>\n",
       "      <td>23.0</td>\n",
       "      <td>11.428571</td>\n",
       "    </tr>\n",
       "  </tbody>\n",
       "</table>\n",
       "</div>"
      ],
      "text/plain": [
       "      row_id  codeentite  annee  ...     cap     bac  part_non_diplome\n",
       "0  340012022       34001   2022  ...   197.0   156.0         20.168067\n",
       "1  340022022       34002   2022  ...   110.0   101.0         16.268980\n",
       "2  340032022       34003   2022  ...  2956.0  2601.0         27.690749\n",
       "3  340042022       34004   2022  ...    27.0    24.0         24.509804\n",
       "4  340052022       34005   2022  ...    26.0    23.0         11.428571\n",
       "\n",
       "[5 rows x 12 columns]"
      ]
     },
     "metadata": {},
     "output_type": "display_data"
    },
    {
     "name": "stdout",
     "output_type": "stream",
     "text": [
      "Entrez un nom pour la vue qui va être créée v_demog_dipl_insee_avec_indicateur2\n",
      "Entrez le nombre d'indicateurs à calculer : 1\n",
      " Indicateur 1 \n",
      " \n",
      "        Quel type de calcul souhaitez-vous effectuer? \n",
      " \n",
      "        Veuillez entrez un numéro: \n",
      "\n",
      "        1: part ... en % (modalite1/modalite2) * 100  ou [ (modalite1 + modalite2 + .... + modaliteN-1)/modaliteN ] * 100                                 \n",
      "        2: somme (modalite1 + modalite2 + .... + modaliteN) \n",
      "                           \n",
      "        3: différence (modalite1 - modalite2 - .... - modaliteN) \n",
      "                                                                              \n",
      "                                                                \n",
      "1\n",
      "\n",
      "        Veuillez saisir les variables pour le calcul (séparées pas des virgules) : bacplus5ouplus,bacplus3ou4,bacplus2,total_general\n",
      "\n",
      "        Choisissez un nom pour l'indicateur à créer :part_diplome_post_bac\n",
      "+-+-+-+-+-+-+-+-+-+-+-+-+-+-+-+-+-+-+-+-+-+-+-+-+-+-+-+-+-+-+-+-+-+-+-+-+-+-+-+-+-+-+\n",
      "\n",
      "\u001b[1m\u001b[0;36mLa nouvelle vue socio_hab_test.V_v_demog_dipl_insee_avec_indicateur2 à été créée avec succès dans PostgreSQL \n",
      "\u001b[0m\u001b[0m\n",
      "+-+-+-+-+-+-+-+-+-+-+-+-+-+-+-+-+-+-+-+-+-+-+-+-+-+-+-+-+-+-+-+-+-+-+-+-+-+-+-+-+-+-+\n"
     ]
    }
   ],
   "source": [
    "fonctions2.maj_vue(theme, base, source) # Rien à changer"
   ]
  }
 ],
 "metadata": {
  "kernelspec": {
   "display_name": "ArcGISPro",
   "language": "Python",
   "name": "python3"
  },
  "language_info": {
   "codemirror_mode": {
    "name": "ipython",
    "version": 3
   },
   "file_extension": ".py",
   "mimetype": "text/x-python",
   "name": "python",
   "nbconvert_exporter": "python",
   "pygments_lexer": "ipython3",
   "version": "3.12.3"
  }
 },
 "nbformat": 4,
 "nbformat_minor": 2
}
